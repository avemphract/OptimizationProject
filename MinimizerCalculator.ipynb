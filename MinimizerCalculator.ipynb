{
 "cells": [
  {
   "cell_type": "code",
   "execution_count": 1,
   "id": "71de099d-c03d-4256-9633-3c95b8202ec2",
   "metadata": {},
   "outputs": [],
   "source": [
    "import sympy\n",
    "from sympy import *\n",
    "from typing import List, Tuple\n",
    "import matplotlib.pyplot as plt\n",
    "import pandas as pd\n",
    "import numpy as np\n",
    "import random\n",
    "import time"
   ]
  },
  {
   "cell_type": "code",
   "execution_count": 2,
   "id": "9352505b-b254-46b9-bc23-fd8d88d771ce",
   "metadata": {},
   "outputs": [],
   "source": [
    "x1, x2, x3, x4 = symbols('x_1 x_2 x_3 x_4', real=True)\n",
    "i = Idx('i', (1, 11))\n",
    "a = Function('a')\n",
    "b = Function('b')\n",
    "A = [0.1957, 0.1947, 0.1735, 0.16, 0.0844, 0.0627, 0.0456, 0.0342, 0.0323, 0.0235, 0.0246];\n",
    "B = [1/0.25, 1/0.50, 1/1.0, 1/2.0, 1/4.0, 1/6.0, 1/8.0, 1/10.0, 1/12.0, 1/14.0, 1/16.0]\n",
    "\n",
    "#eq = sympy.Sum(sympy.Pow(a(i) - ((x1 * (1 + x2 * b(i))) / (1 + x3 * b(i) + x4 * sympy.Pow(b(i), 2))), 2),(i, 1, 11)).doit()\n",
    "eq = sympy.Sum(sympy.Pow(a(i) - x1 *((b(i)**2 + b(i)*x2) / (b(i)**2 + b(i)*x3 + x4)), 2),(i, 1, 11)).doit()\n",
    "\n",
    "eq = eq.replace(a, lambda i: A[i - 1])\n",
    "eq = eq.replace(b, lambda i: B[i - 1])\n",
    "var = [x1, x2, x3, x4]"
   ]
  },
  {
   "cell_type": "code",
   "execution_count": 3,
   "id": "759edd99-07a4-4714-ad8e-d649b41af8a3",
   "metadata": {},
   "outputs": [
    {
     "data": {
      "text/latex": [
       "$\\displaystyle \\sum_{{i}_{1\\mathrel{..}\\nobreak 11}=1}^{11} \\left(a_{i} - \\frac{x_{1} \\left(b_{i}^{2} + b_{i} x_{2}\\right)}{b_{i}^{2} + b_{i} x_{3} + x_{4}}\\right)^{2}$"
      ],
      "text/plain": [
       "Sum((a_i - x_1*(b_i**2 + b_i*x_2)/(b_i**2 + b_i*x_3 + x_4))**2, (i, 1, 11))"
      ]
     },
     "execution_count": 3,
     "metadata": {},
     "output_type": "execute_result"
    }
   ],
   "source": [
    "ai = symbols(\"a_i\", real = True)\n",
    "bi = symbols(\"b_i\", real = True)\n",
    "f = sympy.Sum(sympy.Pow(ai - x1 *((bi**2 + bi*x2) / (bi**2 + bi*x3 + x4)), 2),(i, 1, 11))\n",
    "f"
   ]
  },
  {
   "cell_type": "code",
   "execution_count": 4,
   "id": "24ce669f-d7b7-49f3-a89c-cd0c687218e0",
   "metadata": {},
   "outputs": [],
   "source": [
    "class MinimizerCalculator:\n",
    "    equation: Equality\n",
    "    step: int = 0\n",
    "    variables: List[Symbol]\n",
    "\n",
    "    def __init__(self, equation: Equality, variables: List[Symbol]):\n",
    "        self.equation = equation\n",
    "        self.variables = variables\n",
    "\n",
    "    def calculate(self, position: Array) -> Array:\n",
    "        pass;\n",
    "\n",
    "    def evaluateEq(self, position: Array) -> float:\n",
    "        return self.equation.evalf(subs={self.variables[x]: position[x] for x in range(len(position))})"
   ]
  },
  {
   "cell_type": "code",
   "execution_count": 5,
   "id": "20232d6c-295e-4817-b11c-28fac4ced7a9",
   "metadata": {},
   "outputs": [],
   "source": [
    "class ConjugateGradientCalculator(MinimizerCalculator):\n",
    "    gradientEq: ImmutableDenseNDimArray\n",
    "    dk = None\n",
    "    aPrecesion = 10\n",
    "\n",
    "    def __init__(self, equation: Equality, variables: List[Symbol]):\n",
    "        super().__init__(equation, variables)\n",
    "        self.gradientEq = sympy.derive_by_array(equation, variables)\n",
    "\n",
    "    def calculate(self, position: Array) -> Array:\n",
    "        gCurrent = self.evaluateGradient(position)\n",
    "        if gCurrent == [0 for i in range(len(self.variables))]:\n",
    "            return position\n",
    "        if self.dk is None:\n",
    "            self.dk = -gCurrent\n",
    "        ak = self.calculateStepSize(position, self.dk)\n",
    "        if ak is None:\n",
    "            return None\n",
    "        xNext = position + ak * self.dk\n",
    "        gNext = self.evaluateGradient(xNext)\n",
    "        b = self.calculateB(gCurrent, gNext)\n",
    "        if b is None:\n",
    "            return None\n",
    "        self.dk = -gNext + (b * self.dk)\n",
    "        return xNext\n",
    "\n",
    "    def calculateB(self, gCurrent, gNext):\n",
    "        pass;\n",
    "\n",
    "    def calculateStepSize(self, initialPosition: Array, direction: Array) -> float:\n",
    "        minValue = self.evaluateEq(initialPosition)\n",
    "        minStep = 0\n",
    "        deepStep = 0\n",
    "        while minStep == 0:\n",
    "            deepStep = deepStep + 1\n",
    "            prevValue = None\n",
    "            for i in range(self.aPrecesion):\n",
    "                step = ((i - 1) / (self.aPrecesion ** deepStep))\n",
    "                value = self.evaluateEq(initialPosition + direction * step)\n",
    "                if prevValue == value:\n",
    "                    return None\n",
    "                prevValue = value\n",
    "                if value < abs(minValue):\n",
    "                    minValue = value\n",
    "                    minStep = step\n",
    "        return minStep\n",
    "\n",
    "    def evaluateGradient(self, position: Array) -> Array:\n",
    "        return Array(\n",
    "            [self.gradientEq[i].evalf(subs={self.variables[x]: position[x] for x in range(len(position))}) for i in\n",
    "             range(len(position))])"
   ]
  },
  {
   "cell_type": "code",
   "execution_count": null,
   "id": "5db65b48-bde7-4b77-b3b9-8d10dee09e5a",
   "metadata": {},
   "outputs": [],
   "source": [
    "class HestenesStiefelCalculator(ConjugateGradientCalculator):\n",
    "    def __init__(self, equation: Equality, variables: List[Symbol]):\n",
    "        super().__init__(equation, variables)\n",
    "\n",
    "    def calculateB(self, gCurrent, gNext):\n",
    "        a = Matrix(gNext).transpose() * Matrix(gNext - gCurrent)\n",
    "        b = Matrix(self.dk).transpose() * Matrix(gNext - gCurrent)\n",
    "        return a[0] / b[0]"
   ]
  },
  {
   "cell_type": "code",
   "execution_count": 67,
   "id": "75ac1c6c-3253-4274-ad66-7b57b7ceae51",
   "metadata": {},
   "outputs": [
    {
     "data": {
      "text/latex": [
       "$\\displaystyle g_{i}^{T} \\left(g_{(i+1)} - g_{i}\\right) \\left(d_{k}^{T} \\left(g_{(i+1)} - g_{i}\\right)\\right)^{-1}$"
      ],
      "text/plain": [
       "g_i.T*(g_(i+1) - g_i)*(d_k.T*(g_(i+1) - g_i))**(-1)"
      ]
     },
     "metadata": {},
     "output_type": "display_data"
    },
    {
     "data": {
      "text/latex": [
       "$\\displaystyle g_{(i+1)}^{T} \\left(g_{(i+1)} - g_{i}\\right) \\left(g_{i}^{T} g_{i}\\right)^{-1}$"
      ],
      "text/plain": [
       "g_(i+1).T*(g_(i+1) - g_i)*(g_i.T*g_i)**(-1)"
      ]
     },
     "metadata": {},
     "output_type": "display_data"
    },
    {
     "data": {
      "text/latex": [
       "$\\displaystyle g_{(i+1)}^{T} g_{(i+1)} \\left(g_{i}^{T} g_{i}\\right)^{-1}$"
      ],
      "text/plain": [
       "g_(i+1).T*g_(i+1)*(g_i.T*g_i)**(-1)"
      ]
     },
     "metadata": {},
     "output_type": "display_data"
    },
    {
     "data": {
      "text/latex": [
       "$\\displaystyle g_{(i+1)}^{T} g_{(i+1)} \\left(d_{k}^{T} \\left(g_{(i+1)} - g_{i}\\right)\\right)^{-1}$"
      ],
      "text/plain": [
       "g_(i+1).T*g_(i+1)*(d_k.T*(g_(i+1) - g_i))**(-1)"
      ]
     },
     "metadata": {},
     "output_type": "display_data"
    }
   ],
   "source": [
    "gcurr = MatrixSymbol(\"g_i\",4,1)\n",
    "gnext = MatrixSymbol(\"g_(i+1)\",4,1)\n",
    "dk = MatrixSymbol(\"d_k\",4,1)\n",
    "display((gcurr.transpose()*(gnext-gcurr))/(dk.transpose()*(gnext-gcurr)))\n",
    "display((gnext.transpose()*(gnext-gcurr))/(gcurr.transpose() *  gcurr))\n",
    "display(gnext.transpose() * gnext /(gcurr.transpose() *gcurr))\n",
    "display(gnext.transpose() * gnext /(dk.transpose() * (gnext-gcurr)))"
   ]
  },
  {
   "cell_type": "code",
   "execution_count": 7,
   "id": "55162898-22c7-4dab-b428-a712731a29d8",
   "metadata": {},
   "outputs": [],
   "source": [
    "class PolakRibiereCalculator(ConjugateGradientCalculator):\n",
    "    def __init__(self, equation: Equality, variables: List[Symbol]):\n",
    "        super().__init__(equation, variables)\n",
    "\n",
    "    def calculateB(self, gCurrent, gNext):\n",
    "        a = Matrix(gNext).transpose() * Matrix(gNext - gCurrent)\n",
    "        b = Matrix(gCurrent).transpose() * Matrix(gCurrent)\n",
    "        return a[0] / b[0]"
   ]
  },
  {
   "cell_type": "code",
   "execution_count": 8,
   "id": "dd1b4bbd-1448-42c9-8bb0-b491176d3a2a",
   "metadata": {},
   "outputs": [],
   "source": [
    "class FletcherReevesCalculator(ConjugateGradientCalculator):\n",
    "    def __init__(self, equation: Equality, variables: List[Symbol]):\n",
    "        super().__init__(equation, variables)\n",
    "\n",
    "    def calculateB(self, gCurrent, gNext):\n",
    "        a = Matrix(gNext).transpose() * Matrix(gNext)\n",
    "        b = Matrix(gCurrent).transpose() * Matrix(gCurrent)\n",
    "        return a[0] / b[0]"
   ]
  },
  {
   "cell_type": "code",
   "execution_count": 9,
   "id": "c6fc31b2-9e71-4e88-844c-248ec75fd23b",
   "metadata": {},
   "outputs": [],
   "source": [
    "class DaiYuanCalculator(ConjugateGradientCalculator):\n",
    "    def __init__(self, equation: Equality, variables: List[Symbol]):\n",
    "        super().__init__(equation, variables)\n",
    "\n",
    "    def calculateB(self, gCurrent, gNext):\n",
    "        if all(v == 0 for v in (gNext - gCurrent)):\n",
    "            return None\n",
    "        a = Matrix(gNext).transpose() * Matrix(gNext)\n",
    "        b = Matrix(self.dk).transpose() * Matrix(gNext - gCurrent)\n",
    "        return a[0] / b[0]"
   ]
  },
  {
   "cell_type": "code",
   "execution_count": 10,
   "id": "6ef43b66-53f4-48b4-bba3-cf7953b43137",
   "metadata": {},
   "outputs": [],
   "source": [
    "class NewtonRaphsonCalculator(MinimizerCalculator):\n",
    "    gradientEq: ImmutableDenseNDimArray\n",
    "    hessianEq: List[ImmutableDenseNDimArray]\n",
    "    def __init__(self, equation: Equality, variables: List[Symbol]):\n",
    "        super().__init__(equation, variables)\n",
    "        self.gradientEq = derive_by_array(self.equation, self.variables)\n",
    "        self.hessianEq = [derive_by_array(i, self.variables) for i in self.gradientEq]\n",
    "\n",
    "    def calculate(self, position: Array) -> Array:\n",
    "        evaluateGradient = self.evaluateGradient(position)\n",
    "        evaluateHessian = self.evaluateHessian(position)\n",
    "        if evaluateHessian.det() == 0:\n",
    "            return None\n",
    "        deltaPosition = evaluateHessian.inv() * Matrix(evaluateGradient)\n",
    "        return position - Array(deltaPosition.transpose().tolist()[0])\n",
    "\n",
    "    def evaluateGradient(self, position: Array) -> Array:\n",
    "        return Array(\n",
    "            [self.gradientEq[i].evalf(subs={self.variables[x]: position[x] for x in range(len(position))}) for i in\n",
    "             range(len(position))])\n",
    "\n",
    "    def evaluateHessian(self, position: Array) -> Matrix:\n",
    "        return Matrix([[self.hessianEq[i][j].evalf(subs={self.variables[x]: position[x] for x in range(len(position))})\n",
    "                        for i in range(len(position))] for j in range(len(position))])"
   ]
  },
  {
   "cell_type": "code",
   "execution_count": 11,
   "id": "1ab452ba-3963-4193-958a-24fce293c854",
   "metadata": {},
   "outputs": [],
   "source": [
    "class EquationSolver:\n",
    "    minimizer: MinimizerCalculator\n",
    "    stepSize: int\n",
    "    position: [Array]\n",
    "    name: str\n",
    "    evaluation: [float]\n",
    "    timePassed: [float]\n",
    "    \n",
    "    def __init__(self, minimizer:MinimizerCalculator, stepSize:int, initialPosition:List[float], name:str):\n",
    "        self.minimizer = minimizer\n",
    "        self.stepSize = stepSize\n",
    "        self.name = name\n",
    "        self.position = [Array(initialPosition)]\n",
    "        self.evaluation = [minimizer.evaluateEq(initialPosition)]\n",
    "        self.timePassed = []\n",
    "\n",
    "    def calculate(self):\n",
    "        for i in range(self.stepSize):\n",
    "            start = time.time()\n",
    "            result = self.minimizer.calculate(self.position[-1])\n",
    "            if result is None:\n",
    "                break\n",
    "            self.timePassed.append(time.time() - start)\n",
    "            self.position.append(result)\n",
    "            self.evaluation.append(self.minimizer.evaluateEq(result))\n",
    "            if self.evaluation[-1] < 0.0001:\n",
    "                break\n",
    "\n",
    "    def evaluationPlot(self):\n",
    "        xpoints = np.array([i for i in range(len(self.evaluation))])\n",
    "        ypoints = np.array([self.evaluation[i] for i in range(len(self.evaluation))])\n",
    "        plt.plot(xpoints, ypoints, label = self.name)\n",
    "        \n",
    "    def deltaEvaluationPlot(self):\n",
    "        xpoints = np.array([i for i in range(len(self.evaluation) - 1)])\n",
    "        ypoints = np.array([abs(self.evaluation[i] - self.evaluation[i + 1]) for i in range(len(self.evaluation) - 1)])\n",
    "        plt.plot(xpoints, ypoints, label = self.name)\n",
    "\n",
    "    def maxTime(self):\n",
    "        return max(self.timePassed)\n",
    "\n",
    "    def minTime(self):\n",
    "        return min(self.timePassed)\n",
    "\n",
    "    def averageTime(self):\n",
    "        return sum(self.timePassed) / len(self.timePassed)\n",
    "\n",
    "    def getStep(self, error:float):\n",
    "        for i in range(len(self.evaluation)):\n",
    "            if self.evaluation[i] < error:\n",
    "                return i\n",
    "        return None\n",
    "\n",
    "    def print(self):\n",
    "        display(self.name)\n",
    "        display(\"step: \" + str(len(self.position)))\n",
    "        display(\"x :\" + str(self.position[-1]))\n",
    "        display(\"ev :\" + str(self.evaluation[-1]))"
   ]
  },
  {
   "cell_type": "code",
   "execution_count": 12,
   "id": "a1bf744f-dec3-4bd6-bf10-019ac14a7c97",
   "metadata": {},
   "outputs": [],
   "source": [
    "#initialPosition = [random.random() * 0.42, random.random() * 0.42, random.random() * 0.42, random.random() * 0.42]\n",
    "initialPosition1 = [0.3604731246866024, 0.07230024599267677, 0.11897895468122173, 0.045488678141934774]\n",
    "initialPosition2 = [0.03259413754069159, 0.22363517468946045, 0.3678804141000155, 0.21481580185423677]\n",
    "initialPosition3 = [0.26529854910838047, 0.1427029905292762, 0.12562171017636237, 0.3589400996677316]\n"
   ]
  },
  {
   "cell_type": "code",
   "execution_count": 13,
   "id": "46f0579c-a5f2-4481-b0c7-71b4c04ee15f",
   "metadata": {},
   "outputs": [],
   "source": [
    "initialPosition = initialPosition1\n",
    "stepSize = 1000\n",
    "h = EquationSolver(HestenesStiefelCalculator(eq, var), stepSize, initialPosition, \"Hestenes-Stiefel\")\n",
    "\n",
    "p = EquationSolver(PolakRibiereCalculator(eq, var), stepSize, initialPosition, \"Polak-Ribiere\")\n",
    "\n",
    "f = EquationSolver(FletcherReevesCalculator(eq, var), stepSize, initialPosition, \"Fletcher-Reeves\")\n",
    "\n",
    "d = EquationSolver(DaiYuanCalculator(eq, var), stepSize, initialPosition, \"Dai-Yuan\")\n",
    "\n",
    "n = EquationSolver(NewtonRaphsonCalculator(eq, var), stepSize, initialPosition, \"Newton-Raphson\")\n",
    "\n",
    "solvings = [h,p,f,d,n]"
   ]
  },
  {
   "cell_type": "code",
   "execution_count": 14,
   "id": "b7905b48-d252-4179-a1c0-475093289d74",
   "metadata": {},
   "outputs": [],
   "source": [
    "h.calculate()"
   ]
  },
  {
   "cell_type": "code",
   "execution_count": 15,
   "id": "8f719d5d-faa8-4300-8543-4a3ace7db162",
   "metadata": {},
   "outputs": [],
   "source": [
    "p.calculate()"
   ]
  },
  {
   "cell_type": "code",
   "execution_count": 16,
   "id": "f83ca71e-fec6-4c2e-9a42-a5ee3e5a30df",
   "metadata": {},
   "outputs": [],
   "source": [
    "f.calculate()"
   ]
  },
  {
   "cell_type": "code",
   "execution_count": 17,
   "id": "661eb5b2-c097-4c85-b065-800b2d9742df",
   "metadata": {},
   "outputs": [],
   "source": [
    "d.calculate()"
   ]
  },
  {
   "cell_type": "code",
   "execution_count": 18,
   "id": "f0e78b84-c32d-4ab3-9ea2-425ab2ff2c78",
   "metadata": {},
   "outputs": [],
   "source": [
    "n.calculate()"
   ]
  },
  {
   "cell_type": "code",
   "execution_count": 19,
   "id": "802a52bc-ce6d-4b5c-943b-a61b2b987e33",
   "metadata": {},
   "outputs": [
    {
     "data": {
      "text/plain": [
       "'Hestenes-Stiefel'"
      ]
     },
     "metadata": {},
     "output_type": "display_data"
    },
    {
     "data": {
      "text/plain": [
       "'step: 235'"
      ]
     },
     "metadata": {},
     "output_type": "display_data"
    },
    {
     "data": {
      "text/plain": [
       "'x :[0.19283350326289, 0.190836181075396, 0.123117836987507, 0.135765882266028]'"
      ]
     },
     "metadata": {},
     "output_type": "display_data"
    },
    {
     "data": {
      "text/plain": [
       "'ev :0.000307485987808412'"
      ]
     },
     "metadata": {},
     "output_type": "display_data"
    },
    {
     "data": {
      "text/plain": [
       "'Polak-Ribiere'"
      ]
     },
     "metadata": {},
     "output_type": "display_data"
    },
    {
     "data": {
      "text/plain": [
       "'step: 302'"
      ]
     },
     "metadata": {},
     "output_type": "display_data"
    },
    {
     "data": {
      "text/plain": [
       "'x :[0.19283343310502, 0.190836692745037, 0.123117398957881, 0.135766192074864]'"
      ]
     },
     "metadata": {},
     "output_type": "display_data"
    },
    {
     "data": {
      "text/plain": [
       "'ev :0.000307485987805985'"
      ]
     },
     "metadata": {},
     "output_type": "display_data"
    },
    {
     "data": {
      "text/plain": [
       "'Fletcher-Reeves'"
      ]
     },
     "metadata": {},
     "output_type": "display_data"
    },
    {
     "data": {
      "text/plain": [
       "'step: 1001'"
      ]
     },
     "metadata": {},
     "output_type": "display_data"
    },
    {
     "data": {
      "text/plain": [
       "'x :[0.192833527175225, 0.190837348735729, 0.123118864011061, 0.135766320116918]'"
      ]
     },
     "metadata": {},
     "output_type": "display_data"
    },
    {
     "data": {
      "text/plain": [
       "'ev :0.000307485987822920'"
      ]
     },
     "metadata": {},
     "output_type": "display_data"
    },
    {
     "data": {
      "text/plain": [
       "'Dai-Yuan'"
      ]
     },
     "metadata": {},
     "output_type": "display_data"
    },
    {
     "data": {
      "text/plain": [
       "'step: 211'"
      ]
     },
     "metadata": {},
     "output_type": "display_data"
    },
    {
     "data": {
      "text/plain": [
       "'x :[0.192833453481504, 0.19083617014236, 0.123117245568834, 0.135765965118894]'"
      ]
     },
     "metadata": {},
     "output_type": "display_data"
    },
    {
     "data": {
      "text/plain": [
       "'ev :0.000307485987805627'"
      ]
     },
     "metadata": {},
     "output_type": "display_data"
    },
    {
     "data": {
      "text/plain": [
       "'Newton-Raphson'"
      ]
     },
     "metadata": {},
     "output_type": "display_data"
    },
    {
     "data": {
      "text/plain": [
       "'step: 62'"
      ]
     },
     "metadata": {},
     "output_type": "display_data"
    },
    {
     "data": {
      "text/plain": [
       "'x :[0, -0.0836537252426657, -0.190783238888725, 0.00895510234235279]'"
      ]
     },
     "metadata": {},
     "output_type": "display_data"
    },
    {
     "data": {
      "text/plain": [
       "'ev :0.148413180000000'"
      ]
     },
     "metadata": {},
     "output_type": "display_data"
    }
   ],
   "source": [
    "solvings = [h,p,f,d,n]\n",
    "for i in solvings:\n",
    "    i.print()"
   ]
  },
  {
   "cell_type": "code",
   "execution_count": 42,
   "id": "d6cf73e5-22b9-423e-9578-44e4b81c6fb4",
   "metadata": {},
   "outputs": [
    {
     "data": {
      "text/plain": [
       "''"
      ]
     },
     "metadata": {},
     "output_type": "display_data"
    },
    {
     "data": {
      "text/plain": [
       "'Absolute Error: 0.01'"
      ]
     },
     "metadata": {},
     "output_type": "display_data"
    },
    {
     "data": {
      "text/plain": [
       "'Hestenes-Stiefel'"
      ]
     },
     "metadata": {},
     "output_type": "display_data"
    },
    {
     "data": {
      "text/plain": [
       "'Step: 3'"
      ]
     },
     "metadata": {},
     "output_type": "display_data"
    },
    {
     "data": {
      "text/plain": [
       "'Polak-Ribiere'"
      ]
     },
     "metadata": {},
     "output_type": "display_data"
    },
    {
     "data": {
      "text/plain": [
       "'Step: 3'"
      ]
     },
     "metadata": {},
     "output_type": "display_data"
    },
    {
     "data": {
      "text/plain": [
       "'Fletcher-Reeves'"
      ]
     },
     "metadata": {},
     "output_type": "display_data"
    },
    {
     "data": {
      "text/plain": [
       "'Step: 2'"
      ]
     },
     "metadata": {},
     "output_type": "display_data"
    },
    {
     "data": {
      "text/plain": [
       "'Dai-Yuan'"
      ]
     },
     "metadata": {},
     "output_type": "display_data"
    },
    {
     "data": {
      "text/plain": [
       "'Step: 2'"
      ]
     },
     "metadata": {},
     "output_type": "display_data"
    },
    {
     "data": {
      "text/plain": [
       "'Newton-Raphson'"
      ]
     },
     "metadata": {},
     "output_type": "display_data"
    },
    {
     "data": {
      "text/plain": [
       "'Not reach below 0.01'"
      ]
     },
     "metadata": {},
     "output_type": "display_data"
    },
    {
     "data": {
      "text/plain": [
       "''"
      ]
     },
     "metadata": {},
     "output_type": "display_data"
    },
    {
     "data": {
      "text/plain": [
       "'Absolute Error: 0.001'"
      ]
     },
     "metadata": {},
     "output_type": "display_data"
    },
    {
     "data": {
      "text/plain": [
       "'Hestenes-Stiefel'"
      ]
     },
     "metadata": {},
     "output_type": "display_data"
    },
    {
     "data": {
      "text/plain": [
       "'Step: 7'"
      ]
     },
     "metadata": {},
     "output_type": "display_data"
    },
    {
     "data": {
      "text/plain": [
       "'Polak-Ribiere'"
      ]
     },
     "metadata": {},
     "output_type": "display_data"
    },
    {
     "data": {
      "text/plain": [
       "'Step: 4'"
      ]
     },
     "metadata": {},
     "output_type": "display_data"
    },
    {
     "data": {
      "text/plain": [
       "'Fletcher-Reeves'"
      ]
     },
     "metadata": {},
     "output_type": "display_data"
    },
    {
     "data": {
      "text/plain": [
       "'Step: 5'"
      ]
     },
     "metadata": {},
     "output_type": "display_data"
    },
    {
     "data": {
      "text/plain": [
       "'Dai-Yuan'"
      ]
     },
     "metadata": {},
     "output_type": "display_data"
    },
    {
     "data": {
      "text/plain": [
       "'Step: 4'"
      ]
     },
     "metadata": {},
     "output_type": "display_data"
    },
    {
     "data": {
      "text/plain": [
       "'Newton-Raphson'"
      ]
     },
     "metadata": {},
     "output_type": "display_data"
    },
    {
     "data": {
      "text/plain": [
       "'Not reach below 0.001'"
      ]
     },
     "metadata": {},
     "output_type": "display_data"
    },
    {
     "data": {
      "text/plain": [
       "''"
      ]
     },
     "metadata": {},
     "output_type": "display_data"
    },
    {
     "data": {
      "text/plain": [
       "'Absolute Error: 0.0004'"
      ]
     },
     "metadata": {},
     "output_type": "display_data"
    },
    {
     "data": {
      "text/plain": [
       "'Hestenes-Stiefel'"
      ]
     },
     "metadata": {},
     "output_type": "display_data"
    },
    {
     "data": {
      "text/plain": [
       "'Step: 9'"
      ]
     },
     "metadata": {},
     "output_type": "display_data"
    },
    {
     "data": {
      "text/plain": [
       "'Polak-Ribiere'"
      ]
     },
     "metadata": {},
     "output_type": "display_data"
    },
    {
     "data": {
      "text/plain": [
       "'Step: 6'"
      ]
     },
     "metadata": {},
     "output_type": "display_data"
    },
    {
     "data": {
      "text/plain": [
       "'Fletcher-Reeves'"
      ]
     },
     "metadata": {},
     "output_type": "display_data"
    },
    {
     "data": {
      "text/plain": [
       "'Step: 7'"
      ]
     },
     "metadata": {},
     "output_type": "display_data"
    },
    {
     "data": {
      "text/plain": [
       "'Dai-Yuan'"
      ]
     },
     "metadata": {},
     "output_type": "display_data"
    },
    {
     "data": {
      "text/plain": [
       "'Step: 5'"
      ]
     },
     "metadata": {},
     "output_type": "display_data"
    },
    {
     "data": {
      "text/plain": [
       "'Newton-Raphson'"
      ]
     },
     "metadata": {},
     "output_type": "display_data"
    },
    {
     "data": {
      "text/plain": [
       "'Not reach below 0.0004'"
      ]
     },
     "metadata": {},
     "output_type": "display_data"
    },
    {
     "data": {
      "text/plain": [
       "''"
      ]
     },
     "metadata": {},
     "output_type": "display_data"
    },
    {
     "data": {
      "text/plain": [
       "'Absolute Error: 0.00031'"
      ]
     },
     "metadata": {},
     "output_type": "display_data"
    },
    {
     "data": {
      "text/plain": [
       "'Hestenes-Stiefel'"
      ]
     },
     "metadata": {},
     "output_type": "display_data"
    },
    {
     "data": {
      "text/plain": [
       "'Step: 20'"
      ]
     },
     "metadata": {},
     "output_type": "display_data"
    },
    {
     "data": {
      "text/plain": [
       "'Polak-Ribiere'"
      ]
     },
     "metadata": {},
     "output_type": "display_data"
    },
    {
     "data": {
      "text/plain": [
       "'Step: 18'"
      ]
     },
     "metadata": {},
     "output_type": "display_data"
    },
    {
     "data": {
      "text/plain": [
       "'Fletcher-Reeves'"
      ]
     },
     "metadata": {},
     "output_type": "display_data"
    },
    {
     "data": {
      "text/plain": [
       "'Step: 82'"
      ]
     },
     "metadata": {},
     "output_type": "display_data"
    },
    {
     "data": {
      "text/plain": [
       "'Dai-Yuan'"
      ]
     },
     "metadata": {},
     "output_type": "display_data"
    },
    {
     "data": {
      "text/plain": [
       "'Step: 22'"
      ]
     },
     "metadata": {},
     "output_type": "display_data"
    },
    {
     "data": {
      "text/plain": [
       "'Newton-Raphson'"
      ]
     },
     "metadata": {},
     "output_type": "display_data"
    },
    {
     "data": {
      "text/plain": [
       "'Not reach below 0.00031'"
      ]
     },
     "metadata": {},
     "output_type": "display_data"
    },
    {
     "data": {
      "text/plain": [
       "''"
      ]
     },
     "metadata": {},
     "output_type": "display_data"
    },
    {
     "data": {
      "text/plain": [
       "'Absolute Error: 0.000308'"
      ]
     },
     "metadata": {},
     "output_type": "display_data"
    },
    {
     "data": {
      "text/plain": [
       "'Hestenes-Stiefel'"
      ]
     },
     "metadata": {},
     "output_type": "display_data"
    },
    {
     "data": {
      "text/plain": [
       "'Step: 62'"
      ]
     },
     "metadata": {},
     "output_type": "display_data"
    },
    {
     "data": {
      "text/plain": [
       "'Polak-Ribiere'"
      ]
     },
     "metadata": {},
     "output_type": "display_data"
    },
    {
     "data": {
      "text/plain": [
       "'Step: 38'"
      ]
     },
     "metadata": {},
     "output_type": "display_data"
    },
    {
     "data": {
      "text/plain": [
       "'Fletcher-Reeves'"
      ]
     },
     "metadata": {},
     "output_type": "display_data"
    },
    {
     "data": {
      "text/plain": [
       "'Step: 165'"
      ]
     },
     "metadata": {},
     "output_type": "display_data"
    },
    {
     "data": {
      "text/plain": [
       "'Dai-Yuan'"
      ]
     },
     "metadata": {},
     "output_type": "display_data"
    },
    {
     "data": {
      "text/plain": [
       "'Step: 31'"
      ]
     },
     "metadata": {},
     "output_type": "display_data"
    },
    {
     "data": {
      "text/plain": [
       "'Newton-Raphson'"
      ]
     },
     "metadata": {},
     "output_type": "display_data"
    },
    {
     "data": {
      "text/plain": [
       "'Not reach below 0.000308'"
      ]
     },
     "metadata": {},
     "output_type": "display_data"
    }
   ],
   "source": [
    "for error in [0.01, 0.001, 0.0004, 0.00031, 0.000308]:\n",
    "    display(\"\")\n",
    "    display(\"Absolute Error: \" + str(error))\n",
    "    for solve in solvings:\n",
    "        i = solve.getStep(error)\n",
    "        if i is not None:\n",
    "            display(solve.name)\n",
    "            display(\"Step: \" + str(i))\n",
    "        else:\n",
    "            display(solve.name)\n",
    "            display(\"Not reach below \" + str(error))"
   ]
  },
  {
   "cell_type": "markdown",
   "id": "92788d42-d2b9-4042-b800-3638d50172e7",
   "metadata": {},
   "source": [
    "## ay = plt.gca()\n",
    "ay.set_yscale('log')\n",
    "ay.set_xscale('log', base = 10)\n",
    "\n",
    "plt.xlabel(\"Steps\")\n",
    "plt.ylabel(\"Evaluation error\")\n",
    "plt.title(\"Evaluation error by step\")\n",
    "for i in solvings:\n",
    " i.evaluationPlot()\n",
    "\n",
    "plt.legend()\n",
    "plt.show()"
   ]
  },
  {
   "cell_type": "code",
   "execution_count": 44,
   "id": "9058ebca-93c6-4ab4-93ef-5f4deef50ee2",
   "metadata": {},
   "outputs": [
    {
     "data": {
      "image/png": "[encoded data removed]",
      "text/plain": [
       "<Figure size 640x480 with 1 Axes>"
      ]
     },
     "metadata": {},
     "output_type": "display_data"
    }
   ],
   "source": [
    "\n",
    "ay = plt.gca()\n",
    "ay.set_yscale('log')\n",
    "ay.set_xscale('log', base = 10)\n",
    "\n",
    "plt.xlabel(\"Steps\")\n",
    "plt.ylabel(\"Evaluation error changes\")\n",
    "plt.title(\"Evaluation error changes by step\")\n",
    "\n",
    "for i in solvings:\n",
    " i.deltaEvaluationPlot()\n",
    "\n",
    "plt.legend()\n",
    "plt.show()"
   ]
  },
  {
   "cell_type": "code",
   "execution_count": 23,
   "id": "95af1e15-72bd-407b-a851-16f9689d7f75",
   "metadata": {},
   "outputs": [
    {
     "data": {
      "image/png": "[encoded data removed]",
      "text/plain": [
       "<Figure size 640x480 with 1 Axes>"
      ]
     },
     "metadata": {},
     "output_type": "display_data"
    }
   ],
   "source": [
    "species = tuple(i.name for i in solvings)\n",
    "penguin_means = {\n",
    "    'Min': tuple(i.minTime() * 1000 for i in solvings),\n",
    "    \"Average\": tuple(i.averageTime() * 1000 for i in solvings),\n",
    "    'Max': tuple(i.maxTime() * 1000 for i in solvings),\n",
    "}\n",
    "\n",
    "x = np.arange(len(species))  # the label locations\n",
    "width = 0.25  # the width of the bars\n",
    "multiplier = 0\n",
    "\n",
    "fig, ax = plt.subplots(layout='constrained')\n",
    "\n",
    "for attribute, measurement in penguin_means.items():\n",
    "    offset = width * multiplier\n",
    "    rects = ax.bar(x + offset, measurement, width, label=attribute)\n",
    "    ax.bar_label(rects, padding=3)\n",
    "    multiplier += 1\n",
    "\n",
    "# Add some text for labels, title and custom x-axis tick labels, etc.\n",
    "ax.set_ylabel('Time (ms)')\n",
    "ax.set_title('Execution time')\n",
    "ax.set_xticks(x + width, species)\n",
    "ax.legend(loc='upper left', ncols=3)\n",
    "\n",
    "plt.show()"
   ]
  },
  {
   "cell_type": "code",
   "execution_count": 24,
   "id": "f269f4a7-97b5-4642-b15a-802d18c5e6cb",
   "metadata": {},
   "outputs": [
    {
     "data": {
      "text/latex": [
       "$\\displaystyle \\left[\\begin{matrix}0.19283350326289 & 0.190836181075396 & 0.123117836987507 & 0.135765882266028\\end{matrix}\\right]$"
      ],
      "text/plain": [
       "[0.19283350326289, 0.190836181075396, 0.123117836987507, 0.135765882266028]"
      ]
     },
     "execution_count": 24,
     "metadata": {},
     "output_type": "execute_result"
    }
   ],
   "source": [
    "h.position[-1]"
   ]
  },
  {
   "cell_type": "code",
   "execution_count": 25,
   "id": "c0838316-fb7e-4160-a2f6-82b835ebbd1b",
   "metadata": {},
   "outputs": [
    {
     "data": {
      "text/latex": [
       "$\\displaystyle \\left[\\begin{matrix}0.19283343310502 & 0.190836692745037 & 0.123117398957881 & 0.135766192074864\\end{matrix}\\right]$"
      ],
      "text/plain": [
       "[0.19283343310502, 0.190836692745037, 0.123117398957881, 0.135766192074864]"
      ]
     },
     "execution_count": 25,
     "metadata": {},
     "output_type": "execute_result"
    }
   ],
   "source": [
    "p.position[-1]"
   ]
  },
  {
   "cell_type": "code",
   "execution_count": 26,
   "id": "15577495-0066-4f9b-8369-b269581e7fcf",
   "metadata": {},
   "outputs": [
    {
     "data": {
      "text/latex": [
       "$\\displaystyle 0.000307485988655873$"
      ],
      "text/plain": [
       "0.000307485988655873"
      ]
     },
     "execution_count": 26,
     "metadata": {},
     "output_type": "execute_result"
    }
   ],
   "source": [
    "h.minimizer.evaluateEq(Array([0.192833, 0.190836, 0.123117, 0.135766]))"
   ]
  },
  {
   "cell_type": "code",
   "execution_count": 27,
   "id": "489d1b0a-3315-4f8e-818f-9215d95099aa",
   "metadata": {},
   "outputs": [
    {
     "data": {
      "text/latex": [
       "$\\displaystyle 0.0351428374439997$"
      ],
      "text/plain": [
       "0.0351428374439997"
      ]
     },
     "execution_count": 27,
     "metadata": {},
     "output_type": "execute_result"
    }
   ],
   "source": [
    "h.minimizer.evaluateEq(Array([0.046, 1.745, -0.218, 0.154]))"
   ]
  },
  {
   "cell_type": "code",
   "execution_count": null,
   "id": "e66e2a49-e042-454b-b792-d1dcfaeafa37",
   "metadata": {},
   "outputs": [],
   "source": []
  }
 ],
 "metadata": {
  "kernelspec": {
   "display_name": "Python 3 (ipykernel)",
   "language": "python",
   "name": "python3"
  },
  "language_info": {
   "codemirror_mode": {
    "name": "ipython",
    "version": 3
   },
   "file_extension": ".py",
   "mimetype": "text/x-python",
   "name": "python",
   "nbconvert_exporter": "python",
   "pygments_lexer": "ipython3",
   "version": "3.12.3"
  }
 },
 "nbformat": 4,
 "nbformat_minor": 5
}
