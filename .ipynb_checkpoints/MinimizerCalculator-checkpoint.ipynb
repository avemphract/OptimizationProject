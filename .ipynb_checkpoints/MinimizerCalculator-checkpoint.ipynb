{
 "cells": [
  {
   "cell_type": "code",
   "execution_count": 1,
   "id": "71de099d-c03d-4256-9633-3c95b8202ec2",
   "metadata": {},
   "outputs": [],
   "source": [
    "import sympy\n",
    "from sympy import *\n",
    "from typing import List, Tuple\n",
    "import matplotlib.pyplot as plt\n",
    "import pandas as pd\n",
    "import numpy as np\n",
    "import random\n",
    "import time"
   ]
  },
  {
   "cell_type": "code",
   "execution_count": 2,
   "id": "403de885-5c50-470d-bfd5-1a98118e9411",
   "metadata": {},
   "outputs": [],
   "source": [
    "from Core.EquationSolver import EquationSolver\n",
    "from Core.Minimizers.DaiYuanCalculator import DaiYuanCalculator\n",
    "from Core.Minimizers.FletcherReevesCalculator import FletcherReevesCalculator\n",
    "from Core.Minimizers.HestenesStiefelCalculator import HestenesStiefelCalculator\n",
    "from Core.Minimizers.NewtonRaphsonCalculator import NewtonRaphsonCalculator\n",
    "from Core.Minimizers.PolakRibiereCalculator import PolakRibiereCalculator\n",
    "from config import PRECISION, NUMBER_OF_STEPS"
   ]
  },
  {
   "cell_type": "code",
   "execution_count": 3,
   "id": "1e5b5e6b-7635-4679-b737-cb05c72d98dd",
   "metadata": {},
   "outputs": [],
   "source": [
    "x1, x2, x3, x4 = symbols('x_1 x_2 x_3 x_4', real=True)\n",
    "i = Idx('i', (1, 11))\n",
    "a = Function('a')\n",
    "b = Function('b')\n",
    "A = [0.1957, 0.1947, 0.1735, 0.16, 0.0844, 0.0627, 0.0456, 0.0342, 0.0323, 0.0235, 0.0246];\n",
    "B = [1/0.25, 1/0.50, 1/1.0, 1/2.0, 1/4.0, 1/6.0, 1/8.0, 1/10.0, 1/12.0, 1/14.0, 1/16.0]\n",
    "\n",
    "eq = sympy.Sum(sympy.Pow(a(i) - x1 *((b(i)**2 + b(i)*x2) / (b(i)**2 + b(i)*x3 + x4)), 2),(i, 1, 11)).doit()\n",
    "\n",
    "eq = eq.replace(a, lambda i: A[i - 1])\n",
    "eq = eq.replace(b, lambda i: B[i - 1])\n",
    "var = [x1, x2, x3, x4]"
   ]
  },
  {
   "cell_type": "code",
   "execution_count": 4,
   "id": "a1bf744f-dec3-4bd6-bf10-019ac14a7c97",
   "metadata": {},
   "outputs": [],
   "source": [
    "initialPosition1 = [0.3604731246866024, 0.07230024599267677, 0.11897895468122173, 0.045488678141934774]\n",
    "initialPosition2 = [0.03259413754069159, 0.22363517468946045, 0.3678804141000155, 0.21481580185423677]\n",
    "initialPosition3 = [0.26529854910838047, 0.1427029905292762, 0.12562171017636237, 0.3589400996677316]\n",
    "initialPosition = [initialPosition1, initialPosition2, initialPosition3]"
   ]
  },
  {
   "cell_type": "code",
   "execution_count": 5,
   "id": "46f0579c-a5f2-4481-b0c7-71b4c04ee15f",
   "metadata": {},
   "outputs": [],
   "source": [
    "h = EquationSolver(HestenesStiefelCalculator(eq, var), NUMBER_OF_STEPS, \"Hestenes-Stiefel\")\n",
    "\n",
    "p = EquationSolver(PolakRibiereCalculator(eq, var), NUMBER_OF_STEPS, \"Polak-Ribiere\")\n",
    "\n",
    "f = EquationSolver(FletcherReevesCalculator(eq, var), NUMBER_OF_STEPS, \"Fletcher-Reeves\")\n",
    "\n",
    "d = EquationSolver(DaiYuanCalculator(eq, var), NUMBER_OF_STEPS, \"Dai-Yuan\")\n",
    "\n",
    "n = EquationSolver(NewtonRaphsonCalculator(eq, var), NUMBER_OF_STEPS, \"Newton-Raphson\")\n",
    "\n",
    "solvings = [h,p,f,d,n]"
   ]
  },
  {
   "cell_type": "code",
   "execution_count": 6,
   "id": "df47a0b7-a76c-463b-b33a-90437972b953",
   "metadata": {},
   "outputs": [],
   "source": [
    "solvings = [h,p,f,d,n]\n",
    "for i in solvings:\n",
    "    for j in initialPosition:\n",
    "        i.calculate(j)\n",
    "    "
   ]
  },
  {
   "cell_type": "code",
   "execution_count": 7,
   "id": "f960898c-9830-49c4-9d6f-6a10b42402bf",
   "metadata": {},
   "outputs": [
    {
     "data": {
      "text/plain": [
       "'Hestenes-Stiefel'"
      ]
     },
     "metadata": {},
     "output_type": "display_data"
    },
    {
     "data": {
      "text/plain": [
       "'Average time requirement: 0.1506201645533244'"
      ]
     },
     "metadata": {},
     "output_type": "display_data"
    },
    {
     "data": {
      "text/plain": [
       "'Total time requirement: 451.86049365997314'"
      ]
     },
     "metadata": {},
     "output_type": "display_data"
    },
    {
     "data": {
      "text/plain": [
       "'1. Calculation'"
      ]
     },
     "metadata": {},
     "output_type": "display_data"
    },
    {
     "data": {
      "text/plain": [
       "'Step count: 1001'"
      ]
     },
     "metadata": {},
     "output_type": "display_data"
    },
    {
     "data": {
      "text/plain": [
       "'Calculated X :[0.1928334529825085968564414874993972333148072245725034919965239955195265205055427113800594151632631429, 0.1908362387826291782740477274707554737028274678840084163082658044739704555012710464735233347528697072, 0.1231172962778572770934308269691600399209023894325302804905188060698035969979699011472644085961577931, 0.1357659899815370256674290534658879819840722845093693444728525675002695536142587932276899340284483388]'"
      ]
     },
     "metadata": {},
     "output_type": "display_data"
    },
    {
     "data": {
      "text/plain": [
       "'Calculated evaluation :0.0003074859878056064443334115311263281153629365677085767099047185819108293200222147183380646055409611192'"
      ]
     },
     "metadata": {},
     "output_type": "display_data"
    },
    {
     "data": {
      "text/plain": [
       "'2. Calculation'"
      ]
     },
     "metadata": {},
     "output_type": "display_data"
    },
    {
     "data": {
      "text/plain": [
       "'Step count: 1001'"
      ]
     },
     "metadata": {},
     "output_type": "display_data"
    },
    {
     "data": {
      "text/plain": [
       "'Calculated X :[0.192833452982508604661781358439005270540461781517823131079782735714653635289206938066463395968018518, 0.1908362387826289791201958824120290199101807879807601751303841790061082609187681680387767338587920705, 0.1231172962778572246522533151574244257915006901703524136860475886309420778447214489765624358329333937, 0.1357659899815369368147977491348042623997699679032445712671313592494637841199354510414143407409862857]'"
      ]
     },
     "metadata": {},
     "output_type": "display_data"
    },
    {
     "data": {
      "text/plain": [
       "'Calculated evaluation :0.0003074859878056064443334115311262530114729099482766695974492780690854765372606633073579471014774897369'"
      ]
     },
     "metadata": {},
     "output_type": "display_data"
    },
    {
     "data": {
      "text/plain": [
       "'3. Calculation'"
      ]
     },
     "metadata": {},
     "output_type": "display_data"
    },
    {
     "data": {
      "text/plain": [
       "'Step count: 1001'"
      ]
     },
     "metadata": {},
     "output_type": "display_data"
    },
    {
     "data": {
      "text/plain": [
       "'Calculated X :[0.1928334529825086048617574029999074923880822108761124772178660454938956846507914514155228965960773119, 0.1908362387826289762323290450722307071203563910729623253428677764380643287483664028350632373278881324, 0.123117296277857224766501059641279122714728794696861553928016468884826743909398063396919393865396779, 0.1357659899815369353970987274083894686432388411281145193077948729070383131326501369668689111721849107]'"
      ]
     },
     "metadata": {},
     "output_type": "display_data"
    },
    {
     "data": {
      "text/plain": [
       "'Calculated evaluation :0.0003074859878056064443334115311262529901433823509950099706147918083494443767013967000129180130472186289'"
      ]
     },
     "metadata": {},
     "output_type": "display_data"
    },
    {
     "data": {
      "text/plain": [
       "'-----'"
      ]
     },
     "metadata": {},
     "output_type": "display_data"
    },
    {
     "data": {
      "text/plain": [
       "'Polak-Ribiere'"
      ]
     },
     "metadata": {},
     "output_type": "display_data"
    },
    {
     "data": {
      "text/plain": [
       "'Average time requirement: 0.14285831061999002'"
      ]
     },
     "metadata": {},
     "output_type": "display_data"
    },
    {
     "data": {
      "text/plain": [
       "'Total time requirement: 428.5749318599701'"
      ]
     },
     "metadata": {},
     "output_type": "display_data"
    },
    {
     "data": {
      "text/plain": [
       "'1. Calculation'"
      ]
     },
     "metadata": {},
     "output_type": "display_data"
    },
    {
     "data": {
      "text/plain": [
       "'Step count: 1001'"
      ]
     },
     "metadata": {},
     "output_type": "display_data"
    },
    {
     "data": {
      "text/plain": [
       "'Calculated X :[0.1928334529825086048606262430594907841619843353183597923377339628296021942716637975236681754445148945, 0.1908362387826289762450121736614484240952624061737420218390375551068133402257090092277343436824951537, 0.1231172962778572247597425173342403856666678119305081186222660386299333374427750833246873393618727479, 0.1357659899815369354049923902414777195627288548257554811136588781941310778382550275469604913944007759]'"
      ]
     },
     "metadata": {},
     "output_type": "display_data"
    },
    {
     "data": {
      "text/plain": [
       "'Calculated evaluation :0.0003074859878056064443334115311262529901417710708568328578745146332484253731586526534126533008662007146'"
      ]
     },
     "metadata": {},
     "output_type": "display_data"
    },
    {
     "data": {
      "text/plain": [
       "'2. Calculation'"
      ]
     },
     "metadata": {},
     "output_type": "display_data"
    },
    {
     "data": {
      "text/plain": [
       "'Step count: 1001'"
      ]
     },
     "metadata": {},
     "output_type": "display_data"
    },
    {
     "data": {
      "text/plain": [
       "'Calculated X :[0.1928334529825086048606193287427022512234558097639556284636486199594841969104251199893927537084628212, 0.1908362387826289762452060292745309108989917350444310551352078515615945280998945919344000407720618471, 0.1231172962778572247597966952213138982608371700162557716332188555657688498111725396430644476668375855, 0.1357659899815369354050789650244127726317798202473807318590445245245343450695032917926749424886787749]'"
      ]
     },
     "metadata": {},
     "output_type": "display_data"
    },
    {
     "data": {
      "text/plain": [
       "'Calculated evaluation :0.0003074859878056064443334115311262529901417709760654360007738418132177904875891663028037374258810758280'"
      ]
     },
     "metadata": {},
     "output_type": "display_data"
    },
    {
     "data": {
      "text/plain": [
       "'3. Calculation'"
      ]
     },
     "metadata": {},
     "output_type": "display_data"
    },
    {
     "data": {
      "text/plain": [
       "'Step count: 1001'"
      ]
     },
     "metadata": {},
     "output_type": "display_data"
    },
    {
     "data": {
      "text/plain": [
       "'Calculated X :[0.1928334529825086048606174917667809901608605767023884606055307397494579141808149975977399934804152178, 0.1908362387826289762452571473448141582359585593996885517389182797318933706648486396279762566444851238, 0.1231172962778572247598131869570568696509857420842832197111725721388736839758791086224900221441527396, 0.1357659899815369354051011794282883115677078050185346518399119167749994922957045500387897910391982546]'"
      ]
     },
     "metadata": {},
     "output_type": "display_data"
    },
    {
     "data": {
      "text/plain": [
       "'Calculated evaluation :0.0003074859878056064443334115311262529901417709744042254154100944730557870468734907826272002849555425963'"
      ]
     },
     "metadata": {},
     "output_type": "display_data"
    },
    {
     "data": {
      "text/plain": [
       "'-----'"
      ]
     },
     "metadata": {},
     "output_type": "display_data"
    },
    {
     "data": {
      "text/plain": [
       "'Fletcher-Reeves'"
      ]
     },
     "metadata": {},
     "output_type": "display_data"
    },
    {
     "data": {
      "text/plain": [
       "'Average time requirement: 0.15305877669652304'"
      ]
     },
     "metadata": {},
     "output_type": "display_data"
    },
    {
     "data": {
      "text/plain": [
       "'Total time requirement: 459.1763300895691'"
      ]
     },
     "metadata": {},
     "output_type": "display_data"
    },
    {
     "data": {
      "text/plain": [
       "'1. Calculation'"
      ]
     },
     "metadata": {},
     "output_type": "display_data"
    },
    {
     "data": {
      "text/plain": [
       "'Step count: 1001'"
      ]
     },
     "metadata": {},
     "output_type": "display_data"
    },
    {
     "data": {
      "text/plain": [
       "'Calculated X :[0.1928332259178784408738145044216648123892890815256892303979855033722243737640601294662236735522152209, 0.19083940876955108861837520127584781639256387468241475658468924962479830370135355991938352596997134, 0.12311663280209364882549878440713255288676697132888148519057119330586486150986622701087207537790346, 0.1357676502704801802753475341738006102866815055975168978727144466000924024940609997423890207077071453]'"
      ]
     },
     "metadata": {},
     "output_type": "display_data"
    },
    {
     "data": {
      "text/plain": [
       "'Calculated evaluation :0.0003074859878457649451743235334899871698040211301905913813122605803153144736708495523294162043845869195'"
      ]
     },
     "metadata": {},
     "output_type": "display_data"
    },
    {
     "data": {
      "text/plain": [
       "'2. Calculation'"
      ]
     },
     "metadata": {},
     "output_type": "display_data"
    },
    {
     "data": {
      "text/plain": [
       "'Step count: 1001'"
      ]
     },
     "metadata": {},
     "output_type": "display_data"
    },
    {
     "data": {
      "text/plain": [
       "'Calculated X :[0.192832587222281890164772613143120972650176435283795826035285803872781393056160130131719666938145999, 0.1908832178781671294755316493752021558311394593655387365616701179906806108484147063335540363589262348, 0.1231302429608190455030861102781026781475268060555151517555938101394762071879618397842117782618473138, 0.1357881798123937016167455269158010105380016647584678781810318737867055562467747144005148938375352936]'"
      ]
     },
     "metadata": {},
     "output_type": "display_data"
    },
    {
     "data": {
      "text/plain": [
       "'Calculated evaluation :0.0003074859942461591941810414570408323597611425465965930133468462998297571925415079730663726362291852975'"
      ]
     },
     "metadata": {},
     "output_type": "display_data"
    },
    {
     "data": {
      "text/plain": [
       "'3. Calculation'"
      ]
     },
     "metadata": {},
     "output_type": "display_data"
    },
    {
     "data": {
      "text/plain": [
       "'Step count: 1001'"
      ]
     },
     "metadata": {},
     "output_type": "display_data"
    },
    {
     "data": {
      "text/plain": [
       "'Calculated X :[0.1928334020077883976570589263693036354266871621208518816981195401235125477981108490335630661522739226, 0.1908369645695659861348685477782661068140154467346936916496373725183438552987195108224655756968002613, 0.1231172588672747973948006445024921093674057745466400389476234061697790830232680599391506561367126009, 0.1357663380008983249772167048935896417772075449306341995967734143737246603776443785094150514718272409]'"
      ]
     },
     "metadata": {},
     "output_type": "display_data"
    },
    {
     "data": {
      "text/plain": [
       "'Calculated evaluation :0.0003074859878069568158983614161976275224469131402825352952635946724168549115301093157342489406623258036'"
      ]
     },
     "metadata": {},
     "output_type": "display_data"
    },
    {
     "data": {
      "text/plain": [
       "'-----'"
      ]
     },
     "metadata": {},
     "output_type": "display_data"
    },
    {
     "data": {
      "text/plain": [
       "'Dai-Yuan'"
      ]
     },
     "metadata": {},
     "output_type": "display_data"
    },
    {
     "data": {
      "text/plain": [
       "'Average time requirement: 0.1529931616783142'"
      ]
     },
     "metadata": {},
     "output_type": "display_data"
    },
    {
     "data": {
      "text/plain": [
       "'Total time requirement: 458.9794850349426'"
      ]
     },
     "metadata": {},
     "output_type": "display_data"
    },
    {
     "data": {
      "text/plain": [
       "'1. Calculation'"
      ]
     },
     "metadata": {},
     "output_type": "display_data"
    },
    {
     "data": {
      "text/plain": [
       "'Step count: 1001'"
      ]
     },
     "metadata": {},
     "output_type": "display_data"
    },
    {
     "data": {
      "text/plain": [
       "'Calculated X :[0.1928334529825086048606178591793801262303308859353710296289202654841415200888944923680793111920924087, 0.1908362387826289762452407206805237148967321988257167919967769419370272490584071870952972097670022204, 0.1231172962778572247598060591326890377447275378299433760075368515751359951110561616341857148060852031, 0.1357659899815369354050942129946270925228656205609806931230018831453896192526849869055518573959387262]'"
      ]
     },
     "metadata": {},
     "output_type": "display_data"
    },
    {
     "data": {
      "text/plain": [
       "'Calculated evaluation :0.0003074859878056064443334115311262529901417709738142329469507270016168430833085926419789744010558145784'"
      ]
     },
     "metadata": {},
     "output_type": "display_data"
    },
    {
     "data": {
      "text/plain": [
       "'2. Calculation'"
      ]
     },
     "metadata": {},
     "output_type": "display_data"
    },
    {
     "data": {
      "text/plain": [
       "'Step count: 1001'"
      ]
     },
     "metadata": {},
     "output_type": "display_data"
    },
    {
     "data": {
      "text/plain": [
       "'Calculated X :[0.1928334529825086048606309913715941636140385922608375931059029816898371631470727048954206183392067705, 0.1908362387826289762452102781813526691398361419034791213423418847887960256028925813986772033172816115, 0.1231172962778572247599146656891715395923796420772414350907128460648760390209125388238065558689803801, 0.1357659899815369354050677312050745174802667192806972593974847646514935171727237801893985999364309976]'"
      ]
     },
     "metadata": {},
     "output_type": "display_data"
    },
    {
     "data": {
      "text/plain": [
       "'Calculated evaluation :0.0003074859878056064443334115311262529901417710962073773131918885459167464044168280508500920431010852046'"
      ]
     },
     "metadata": {},
     "output_type": "display_data"
    },
    {
     "data": {
      "text/plain": [
       "'3. Calculation'"
      ]
     },
     "metadata": {},
     "output_type": "display_data"
    },
    {
     "data": {
      "text/plain": [
       "'Step count: 1001'"
      ]
     },
     "metadata": {},
     "output_type": "display_data"
    },
    {
     "data": {
      "text/plain": [
       "'Calculated X :[0.1928334529825086048606178591793020090948995375166491076162131307074469359944166443431759333065923941, 0.1908362387826289762452407206853216468515866998502741334791198478355177140038826555526201567459524518, 0.1231172962778572247598060591353251660144323147802321393985002324764821718865929314414975065133604738, 0.135765989981536935405094212996596973062439912538241630958700145630575544655996949399219534958987881]'"
      ]
     },
     "metadata": {},
     "output_type": "display_data"
    },
    {
     "data": {
      "text/plain": [
       "'Calculated evaluation :0.0003074859878056064443334115311262529901417709738142329469506637019395176571840781529425103965480714626'"
      ]
     },
     "metadata": {},
     "output_type": "display_data"
    },
    {
     "data": {
      "text/plain": [
       "'-----'"
      ]
     },
     "metadata": {},
     "output_type": "display_data"
    },
    {
     "data": {
      "text/plain": [
       "'Newton-Raphson'"
      ]
     },
     "metadata": {},
     "output_type": "display_data"
    },
    {
     "data": {
      "text/plain": [
       "'Average time requirement: 0.2051576702288409'"
      ]
     },
     "metadata": {},
     "output_type": "display_data"
    },
    {
     "data": {
      "text/plain": [
       "'Total time requirement: 220.33933782577515'"
      ]
     },
     "metadata": {},
     "output_type": "display_data"
    },
    {
     "data": {
      "text/plain": [
       "'1. Calculation'"
      ]
     },
     "metadata": {},
     "output_type": "display_data"
    },
    {
     "data": {
      "text/plain": [
       "'Step count: 52'"
      ]
     },
     "metadata": {},
     "output_type": "display_data"
    },
    {
     "data": {
      "text/plain": [
       "'Calculated X :[0, -0.08365384591149596495509317439000759701474590463354036483589293844343486292917954156193950931039133248, -0.1907831635529866278499198374096360599426989463418389891857537593219482474151306167529385789939172328, 0.008955096426671871893276153800183855823191937307686870740314085348813251969553333084623191273981893896]'"
      ]
     },
     "metadata": {},
     "output_type": "display_data"
    },
    {
     "data": {
      "text/plain": [
       "'Calculated evaluation :0.1484131800000000080200712737621420961603571965293923194034889980182888573768257289842154023062903434'"
      ]
     },
     "metadata": {},
     "output_type": "display_data"
    },
    {
     "data": {
      "text/plain": [
       "'2. Calculation'"
      ]
     },
     "metadata": {},
     "output_type": "display_data"
    },
    {
     "data": {
      "text/plain": [
       "'Step count: 1001'"
      ]
     },
     "metadata": {},
     "output_type": "display_data"
    },
    {
     "data": {
      "text/plain": [
       "'Calculated X :[-47.04748882202231589187584721829866574984642436015222348733906274588363377311880495024890726017137248, 8540020489154738422.05963563776392958558204344757019474901146511507714328713840218800149792645203623, -1729069461478711040855.382977817258724262133709042694156367480520194709094783933885493962684465420158, -703767464560016069008.6247762953842324865170474311167084045348570575727423919112724729028983408953124]'"
      ]
     },
     "metadata": {},
     "output_type": "display_data"
    },
    {
     "data": {
      "text/plain": [
       "'Calculated evaluation :0.001794062750975618375753407955556329674690183377733100273827596494678353822306788143541000691453388166'"
      ]
     },
     "metadata": {},
     "output_type": "display_data"
    },
    {
     "data": {
      "text/plain": [
       "'3. Calculation'"
      ]
     },
     "metadata": {},
     "output_type": "display_data"
    },
    {
     "data": {
      "text/plain": [
       "'Step count: 24'"
      ]
     },
     "metadata": {},
     "output_type": "display_data"
    },
    {
     "data": {
      "text/plain": [
       "'Calculated X :[1.440868768464276084845252960832066096877262161762205356282226935979923421235241114670245435956984843e-156, 81.69585628257691385573923442621632053705429954286316833102372944072681026885143240030339442382370663, 863.5377778270355203659522669341169726238176648461423696834914871471129767894363491621272483028706202, -1086.762432488250413818413600851092058577789105447670914115785365364365584896175743601020566731929394]'"
      ]
     },
     "metadata": {},
     "output_type": "display_data"
    },
    {
     "data": {
      "text/plain": [
       "'Calculated evaluation :0.1484131800000000080200712737621420961603571965293923194034889980182888573768257289842154023062903434'"
      ]
     },
     "metadata": {},
     "output_type": "display_data"
    },
    {
     "data": {
      "text/plain": [
       "'-----'"
      ]
     },
     "metadata": {},
     "output_type": "display_data"
    }
   ],
   "source": [
    "for i in solvings:\n",
    "    i.display()"
   ]
  },
  {
   "cell_type": "code",
   "execution_count": 21,
   "id": "d6cf73e5-22b9-423e-9578-44e4b81c6fb4",
   "metadata": {},
   "outputs": [
    {
     "data": {
      "text/plain": [
       "''"
      ]
     },
     "metadata": {},
     "output_type": "display_data"
    },
    {
     "data": {
      "text/plain": [
       "'Absolute Error: 0.01'"
      ]
     },
     "metadata": {},
     "output_type": "display_data"
    },
    {
     "data": {
      "text/plain": [
       "'Hestenes-Stiefel'"
      ]
     },
     "metadata": {},
     "output_type": "display_data"
    },
    {
     "data": {
      "text/plain": [
       "'Step: 2.0'"
      ]
     },
     "metadata": {},
     "output_type": "display_data"
    },
    {
     "data": {
      "text/plain": [
       "'Polak-Ribiere'"
      ]
     },
     "metadata": {},
     "output_type": "display_data"
    },
    {
     "data": {
      "text/plain": [
       "'Step: 2.0'"
      ]
     },
     "metadata": {},
     "output_type": "display_data"
    },
    {
     "data": {
      "text/plain": [
       "'Fletcher-Reeves'"
      ]
     },
     "metadata": {},
     "output_type": "display_data"
    },
    {
     "data": {
      "text/plain": [
       "'Step: 1.5'"
      ]
     },
     "metadata": {},
     "output_type": "display_data"
    },
    {
     "data": {
      "text/plain": [
       "'Dai-Yuan'"
      ]
     },
     "metadata": {},
     "output_type": "display_data"
    },
    {
     "data": {
      "text/plain": [
       "'Step: 1.5'"
      ]
     },
     "metadata": {},
     "output_type": "display_data"
    },
    {
     "data": {
      "text/plain": [
       "'Newton-Raphson'"
      ]
     },
     "metadata": {},
     "output_type": "display_data"
    },
    {
     "data": {
      "text/plain": [
       "'Step: 16.0'"
      ]
     },
     "metadata": {},
     "output_type": "display_data"
    },
    {
     "data": {
      "text/plain": [
       "''"
      ]
     },
     "metadata": {},
     "output_type": "display_data"
    },
    {
     "data": {
      "text/plain": [
       "'Absolute Error: 0.001'"
      ]
     },
     "metadata": {},
     "output_type": "display_data"
    },
    {
     "data": {
      "text/plain": [
       "'Hestenes-Stiefel'"
      ]
     },
     "metadata": {},
     "output_type": "display_data"
    },
    {
     "data": {
      "text/plain": [
       "'Step: 6.5'"
      ]
     },
     "metadata": {},
     "output_type": "display_data"
    },
    {
     "data": {
      "text/plain": [
       "'Polak-Ribiere'"
      ]
     },
     "metadata": {},
     "output_type": "display_data"
    },
    {
     "data": {
      "text/plain": [
       "'Step: 4.5'"
      ]
     },
     "metadata": {},
     "output_type": "display_data"
    },
    {
     "data": {
      "text/plain": [
       "'Fletcher-Reeves'"
      ]
     },
     "metadata": {},
     "output_type": "display_data"
    },
    {
     "data": {
      "text/plain": [
       "'Step: 4.5'"
      ]
     },
     "metadata": {},
     "output_type": "display_data"
    },
    {
     "data": {
      "text/plain": [
       "'Dai-Yuan'"
      ]
     },
     "metadata": {},
     "output_type": "display_data"
    },
    {
     "data": {
      "text/plain": [
       "'Step: 4.0'"
      ]
     },
     "metadata": {},
     "output_type": "display_data"
    },
    {
     "data": {
      "text/plain": [
       "'Newton-Raphson'"
      ]
     },
     "metadata": {},
     "output_type": "display_data"
    },
    {
     "data": {
      "text/plain": [
       "'Step: 22.0'"
      ]
     },
     "metadata": {},
     "output_type": "display_data"
    },
    {
     "data": {
      "text/plain": [
       "''"
      ]
     },
     "metadata": {},
     "output_type": "display_data"
    },
    {
     "data": {
      "text/plain": [
       "'Absolute Error: 0.0004'"
      ]
     },
     "metadata": {},
     "output_type": "display_data"
    },
    {
     "data": {
      "text/plain": [
       "'Hestenes-Stiefel'"
      ]
     },
     "metadata": {},
     "output_type": "display_data"
    },
    {
     "data": {
      "text/plain": [
       "'Step: 23.0'"
      ]
     },
     "metadata": {},
     "output_type": "display_data"
    },
    {
     "data": {
      "text/plain": [
       "'Polak-Ribiere'"
      ]
     },
     "metadata": {},
     "output_type": "display_data"
    },
    {
     "data": {
      "text/plain": [
       "'Step: 11.5'"
      ]
     },
     "metadata": {},
     "output_type": "display_data"
    },
    {
     "data": {
      "text/plain": [
       "'Fletcher-Reeves'"
      ]
     },
     "metadata": {},
     "output_type": "display_data"
    },
    {
     "data": {
      "text/plain": [
       "'Step: 8.0'"
      ]
     },
     "metadata": {},
     "output_type": "display_data"
    },
    {
     "data": {
      "text/plain": [
       "'Dai-Yuan'"
      ]
     },
     "metadata": {},
     "output_type": "display_data"
    },
    {
     "data": {
      "text/plain": [
       "'Step: 8.0'"
      ]
     },
     "metadata": {},
     "output_type": "display_data"
    },
    {
     "data": {
      "text/plain": [
       "'Newton-Raphson'"
      ]
     },
     "metadata": {},
     "output_type": "display_data"
    },
    {
     "data": {
      "text/plain": [
       "'Not reach below 0.0004'"
      ]
     },
     "metadata": {},
     "output_type": "display_data"
    },
    {
     "data": {
      "text/plain": [
       "''"
      ]
     },
     "metadata": {},
     "output_type": "display_data"
    },
    {
     "data": {
      "text/plain": [
       "'Absolute Error: 0.00031'"
      ]
     },
     "metadata": {},
     "output_type": "display_data"
    },
    {
     "data": {
      "text/plain": [
       "'Hestenes-Stiefel'"
      ]
     },
     "metadata": {},
     "output_type": "display_data"
    },
    {
     "data": {
      "text/plain": [
       "'Step: 65.0'"
      ]
     },
     "metadata": {},
     "output_type": "display_data"
    },
    {
     "data": {
      "text/plain": [
       "'Polak-Ribiere'"
      ]
     },
     "metadata": {},
     "output_type": "display_data"
    },
    {
     "data": {
      "text/plain": [
       "'Step: 58.5'"
      ]
     },
     "metadata": {},
     "output_type": "display_data"
    },
    {
     "data": {
      "text/plain": [
       "'Fletcher-Reeves'"
      ]
     },
     "metadata": {},
     "output_type": "display_data"
    },
    {
     "data": {
      "text/plain": [
       "'Step: 63.0'"
      ]
     },
     "metadata": {},
     "output_type": "display_data"
    },
    {
     "data": {
      "text/plain": [
       "'Dai-Yuan'"
      ]
     },
     "metadata": {},
     "output_type": "display_data"
    },
    {
     "data": {
      "text/plain": [
       "'Step: 28.5'"
      ]
     },
     "metadata": {},
     "output_type": "display_data"
    },
    {
     "data": {
      "text/plain": [
       "'Newton-Raphson'"
      ]
     },
     "metadata": {},
     "output_type": "display_data"
    },
    {
     "data": {
      "text/plain": [
       "'Not reach below 0.00031'"
      ]
     },
     "metadata": {},
     "output_type": "display_data"
    },
    {
     "data": {
      "text/plain": [
       "''"
      ]
     },
     "metadata": {},
     "output_type": "display_data"
    },
    {
     "data": {
      "text/plain": [
       "'Absolute Error: 0.000308'"
      ]
     },
     "metadata": {},
     "output_type": "display_data"
    },
    {
     "data": {
      "text/plain": [
       "'Hestenes-Stiefel'"
      ]
     },
     "metadata": {},
     "output_type": "display_data"
    },
    {
     "data": {
      "text/plain": [
       "'Step: 92.5'"
      ]
     },
     "metadata": {},
     "output_type": "display_data"
    },
    {
     "data": {
      "text/plain": [
       "'Polak-Ribiere'"
      ]
     },
     "metadata": {},
     "output_type": "display_data"
    },
    {
     "data": {
      "text/plain": [
       "'Step: 79.0'"
      ]
     },
     "metadata": {},
     "output_type": "display_data"
    },
    {
     "data": {
      "text/plain": [
       "'Fletcher-Reeves'"
      ]
     },
     "metadata": {},
     "output_type": "display_data"
    },
    {
     "data": {
      "text/plain": [
       "'Step: 127.5'"
      ]
     },
     "metadata": {},
     "output_type": "display_data"
    },
    {
     "data": {
      "text/plain": [
       "'Dai-Yuan'"
      ]
     },
     "metadata": {},
     "output_type": "display_data"
    },
    {
     "data": {
      "text/plain": [
       "'Step: 41.0'"
      ]
     },
     "metadata": {},
     "output_type": "display_data"
    },
    {
     "data": {
      "text/plain": [
       "'Newton-Raphson'"
      ]
     },
     "metadata": {},
     "output_type": "display_data"
    },
    {
     "data": {
      "text/plain": [
       "'Not reach below 0.000308'"
      ]
     },
     "metadata": {},
     "output_type": "display_data"
    }
   ],
   "source": [
    "def getStep(eqSolver, error: float):\n",
    "    results = []\n",
    "    for i in eqSolver.evaluation:\n",
    "        for j in range(len(i)):\n",
    "            if i[j] < error:\n",
    "                results.append(j)\n",
    "                break\n",
    "    if len(results) == 0:\n",
    "        return None\n",
    "    return results\n",
    "\n",
    "for error in [0.01, 0.001, 0.0004, 0.00031, 0.000308]:\n",
    "    display(\"\")\n",
    "    display(\"Absolute Error: \" + str(error))\n",
    "    for solve in solvings:\n",
    "        i = getStep(solve,error)\n",
    "        if i is not None:\n",
    "            display(solve.name)\n",
    "            display(\"Step: \" + str(i))\n",
    "        else:\n",
    "            display(solve.name)\n",
    "            display(\"Not reach below \" + str(error))"
   ]
  },
  {
   "cell_type": "code",
   "execution_count": 9,
   "id": "c39fed92-3b37-45c0-bf1d-840f2344d6d7",
   "metadata": {},
   "outputs": [
    {
     "data": {
      "image/png": "[encoded data removed]",
      "text/plain": [
       "<Figure size 640x480 with 1 Axes>"
      ]
     },
     "metadata": {},
     "output_type": "display_data"
    }
   ],
   "source": [
    "ay = plt.gca()\n",
    "ay.set_yscale('log')\n",
    "ay.set_xscale('log', base = 10)\n",
    "\n",
    "plt.xlabel(\"Steps\")\n",
    "plt.ylabel(\"Evaluation error\")\n",
    "plt.title(\"Evaluation error by step\")\n",
    "for i in solvings:\n",
    "    plotVar = i.evaluationPlot()\n",
    "    xpoints = np.array(plotVar[0])\n",
    "    ypoints = np.array(plotVar[1])\n",
    "    plt.plot(xpoints, ypoints, markevery = [len(j) for j in i.evaluation], label=i.name)\n",
    "\n",
    "plt.legend()\n",
    "plt.show()"
   ]
  },
  {
   "cell_type": "code",
   "execution_count": 10,
   "id": "9058ebca-93c6-4ab4-93ef-5f4deef50ee2",
   "metadata": {},
   "outputs": [
    {
     "data": {
      "image/png": "[encoded data removed]",
      "text/plain": [
       "<Figure size 640x480 with 1 Axes>"
      ]
     },
     "metadata": {},
     "output_type": "display_data"
    }
   ],
   "source": [
    "ay = plt.gca()\n",
    "ay.set_yscale('log')\n",
    "ay.set_xscale('log', base = 10)\n",
    "\n",
    "plt.xlabel(\"Steps\")\n",
    "plt.ylabel(\"Evaluation error changes\")\n",
    "plt.title(\"Evaluation error changes by step\")\n",
    "\n",
    "for i in solvings:\n",
    "    plotVar = i.deltaEvaluationPlot()\n",
    "    xpoints = np.array(plotVar[0])\n",
    "    ypoints = np.array(plotVar[1])\n",
    "    plt.plot(xpoints, ypoints, markevery = [len(j) - 1 for j in i.evaluation], label=i.name)\n",
    "\n",
    "plt.legend()\n",
    "plt.show()"
   ]
  },
  {
   "cell_type": "code",
   "execution_count": 11,
   "id": "95af1e15-72bd-407b-a851-16f9689d7f75",
   "metadata": {},
   "outputs": [
    {
     "data": {
      "image/png": "[encoded data removed]",
      "text/plain": [
       "<Figure size 640x480 with 1 Axes>"
      ]
     },
     "metadata": {},
     "output_type": "display_data"
    }
   ],
   "source": [
    "species = tuple(i.name for i in solvings)\n",
    "penguin_means = {\n",
    "    'Min': tuple(i.minTime() * 1000 for i in solvings),\n",
    "    \"Average\": tuple(i.averageTime() * 1000 for i in solvings),\n",
    "    'Max': tuple(i.maxTime() * 1000 for i in solvings),\n",
    "}\n",
    "\n",
    "x = np.arange(len(species))  # the label locations\n",
    "width = 0.25  # the width of the bars\n",
    "multiplier = 0\n",
    "\n",
    "fig, ax = plt.subplots(layout='constrained')\n",
    "\n",
    "for attribute, measurement in penguin_means.items():\n",
    "    offset = width * multiplier\n",
    "    rects = ax.bar(x + offset, measurement, width, label=attribute)\n",
    "    ax.bar_label(rects, padding=3)\n",
    "    multiplier += 1\n",
    "\n",
    "# Add some text for labels, title and custom x-axis tick labels, etc.\n",
    "ax.set_ylabel('Time (ms)')\n",
    "ax.set_title('Execution time')\n",
    "ax.set_xticks(x + width, species)\n",
    "ax.legend(loc='upper left', ncols=3)\n",
    "\n",
    "plt.show()"
   ]
  },
  {
   "cell_type": "code",
   "execution_count": 15,
   "id": "e66e2a49-e042-454b-b792-d1dcfaeafa37",
   "metadata": {},
   "outputs": [
    {
     "data": {
      "image/png": "[encoded data removed]",
      "text/plain": [
       "<Figure size 640x480 with 1 Axes>"
      ]
     },
     "metadata": {},
     "output_type": "display_data"
    }
   ],
   "source": [
    "ay = plt.gca()\n",
    "\n",
    "plt.xlabel(\"Steps\")\n",
    "plt.ylabel(\"Time Requirement\")\n",
    "plt.title(\"Time requirement by step\")\n",
    "for i in solvings:\n",
    "    plotVar = i.timePlot()\n",
    "    xpoints = np.array(plotVar[0])\n",
    "    ypoints = np.array([i*1000 for i in plotVar[1]])\n",
    "    plt.plot(xpoints, ypoints, markevery = [len(j) - 1 for j in i.evaluation], label=i.name)\n",
    "\n",
    "plt.legend()\n",
    "plt.show()"
   ]
  },
  {
   "cell_type": "code",
   "execution_count": null,
   "id": "27842191-5583-4c86-8dd8-d2f597668640",
   "metadata": {},
   "outputs": [],
   "source": []
  }
 ],
 "metadata": {
  "kernelspec": {
   "display_name": "Python 3 (ipykernel)",
   "language": "python",
   "name": "python3"
  },
  "language_info": {
   "codemirror_mode": {
    "name": "ipython",
    "version": 3
   },
   "file_extension": ".py",
   "mimetype": "text/x-python",
   "name": "python",
   "nbconvert_exporter": "python",
   "pygments_lexer": "ipython3",
   "version": "3.12.3"
  }
 },
 "nbformat": 4,
 "nbformat_minor": 5
}
